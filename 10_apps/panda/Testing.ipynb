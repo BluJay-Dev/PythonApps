{
 "cells": [
  {
   "cell_type": "code",
   "execution_count": 7,
   "id": "308b7d0d",
   "metadata": {},
   "outputs": [],
   "source": [
    "import pandas "
   ]
  },
  {
   "cell_type": "code",
   "execution_count": 9,
   "id": "47c45c7f",
   "metadata": {},
   "outputs": [
    {
     "data": {
      "text/html": [
       "<div>\n",
       "<style scoped>\n",
       "    .dataframe tbody tr th:only-of-type {\n",
       "        vertical-align: middle;\n",
       "    }\n",
       "\n",
       "    .dataframe tbody tr th {\n",
       "        vertical-align: top;\n",
       "    }\n",
       "\n",
       "    .dataframe thead th {\n",
       "        text-align: right;\n",
       "    }\n",
       "</style>\n",
       "<table border=\"1\" class=\"dataframe\">\n",
       "  <thead>\n",
       "    <tr style=\"text-align: right;\">\n",
       "      <th></th>\n",
       "      <th>Client Ref</th>\n",
       "      <th>Job ID</th>\n",
       "      <th>Crawl Step</th>\n",
       "      <th>Crawler Started</th>\n",
       "      <th>Crawler Finished</th>\n",
       "      <th>QA Completed Date</th>\n",
       "      <th>Publish Date</th>\n",
       "    </tr>\n",
       "  </thead>\n",
       "  <tbody>\n",
       "    <tr>\n",
       "      <th>0</th>\n",
       "      <td>46483</td>\n",
       "      <td>7552fb84-eee8-4197-931e-04aa617d3803</td>\n",
       "      <td>crawling</td>\n",
       "      <td>2021-09-06 15:19:41</td>\n",
       "      <td>-</td>\n",
       "      <td>-</td>\n",
       "      <td>-</td>\n",
       "    </tr>\n",
       "    <tr>\n",
       "      <th>1</th>\n",
       "      <td>46484</td>\n",
       "      <td>84247c04-f8f9-4887-94ac-abb8080f41bd</td>\n",
       "      <td>crawling</td>\n",
       "      <td>2021-09-06 15:18:50</td>\n",
       "      <td>-</td>\n",
       "      <td>-</td>\n",
       "      <td>-</td>\n",
       "    </tr>\n",
       "    <tr>\n",
       "      <th>2</th>\n",
       "      <td>46486</td>\n",
       "      <td>eab829d9-a07d-40f0-b244-a93641b17e2a</td>\n",
       "      <td>crawling</td>\n",
       "      <td>2021-09-06 15:20:43</td>\n",
       "      <td>-</td>\n",
       "      <td>-</td>\n",
       "      <td>-</td>\n",
       "    </tr>\n",
       "  </tbody>\n",
       "</table>\n",
       "</div>"
      ],
      "text/plain": [
       "   Client Ref                                Job ID Crawl Step  \\\n",
       "0       46483  7552fb84-eee8-4197-931e-04aa617d3803   crawling   \n",
       "1       46484  84247c04-f8f9-4887-94ac-abb8080f41bd   crawling   \n",
       "2       46486  eab829d9-a07d-40f0-b244-a93641b17e2a   crawling   \n",
       "\n",
       "       Crawler Started Crawler Finished QA Completed Date Publish Date  \n",
       "0  2021-09-06 15:19:41                -                 -            -  \n",
       "1  2021-09-06 15:18:50                -                 -            -  \n",
       "2  2021-09-06 15:20:43                -                 -            -  "
      ]
     },
     "execution_count": 9,
     "metadata": {},
     "output_type": "execute_result"
    }
   ],
   "source": [
    "df=pandas.read_csv(\"~/Downloads/xml_checker_report(1).csv\")\n",
    "df\n",
    "\n"
   ]
  }
 ],
 "metadata": {
  "kernelspec": {
   "display_name": "Python 3 (ipykernel)",
   "language": "python",
   "name": "python3"
  },
  "language_info": {
   "codemirror_mode": {
    "name": "ipython",
    "version": 3
   },
   "file_extension": ".py",
   "mimetype": "text/x-python",
   "name": "python",
   "nbconvert_exporter": "python",
   "pygments_lexer": "ipython3",
   "version": "3.9.7"
  }
 },
 "nbformat": 4,
 "nbformat_minor": 5
}